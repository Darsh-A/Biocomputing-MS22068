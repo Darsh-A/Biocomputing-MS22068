{
 "cells": [
  {
   "cell_type": "code",
   "execution_count": 1,
   "metadata": {},
   "outputs": [],
   "source": [
    "import re"
   ]
  },
  {
   "cell_type": "code",
   "execution_count": 12,
   "metadata": {},
   "outputs": [
    {
     "name": "stdout",
     "output_type": "stream",
     "text": [
      "Test 1\n",
      "No date found\n",
      "Test 2\n"
     ]
    },
    {
     "data": {
      "text/plain": [
       "'03.02.2020'"
      ]
     },
     "execution_count": 12,
     "metadata": {},
     "output_type": "execute_result"
    }
   ],
   "source": [
    "date_pattern = r\"([0-9]{2}-[0-9]{2}-[0-9]{4}|[0-9]{2}/[0-9]{2}/[0-9]{4}|[0-9]{2}\\.[0-9]{2}\\.[0-9]{4})\"\n",
    "\n",
    "def get_date(text):\n",
    "    date = re.search(date_pattern, text)\n",
    "    if date:\n",
    "        return date.group(0)\n",
    "    return print(\"No date found\")\n",
    "\n",
    "print(\"Test 1\")\n",
    "get_date(\"Today is 03.02/2020\")\n",
    "print(\"Test 2\")\n",
    "get_date(\"Today is 03.02.2020\")"
   ]
  },
  {
   "cell_type": "code",
   "execution_count": 16,
   "metadata": {},
   "outputs": [
    {
     "name": "stdout",
     "output_type": "stream",
     "text": [
      "Test 3\n",
      "No email found\n",
      "Test 4\n"
     ]
    },
    {
     "data": {
      "text/plain": [
       "'blabla@lala.com'"
      ]
     },
     "execution_count": 16,
     "metadata": {},
     "output_type": "execute_result"
    }
   ],
   "source": [
    "email_pattern = r\"([a-zA-Z0-9_.+-]+@[a-zA-Z]+\\.[a-zA-Z]+)\"\n",
    "\n",
    "def get_email(text):\n",
    "    email = re.search(email_pattern, text)\n",
    "    if email:\n",
    "        return email.group(0)\n",
    "    return print(\"No email found\")\n",
    "\n",
    "print(\"Test 3\")\n",
    "get_email(\"my email is blabla@lala1.com\")\n",
    "print(\"Test 4\")\n",
    "get_email(\"my email is blabla@lala.com\")"
   ]
  },
  {
   "cell_type": "code",
   "execution_count": 18,
   "metadata": {},
   "outputs": [
    {
     "name": "stdout",
     "output_type": "stream",
     "text": [
      "Email: test@gmail.com\n",
      "Date: 02/10/1989\n"
     ]
    }
   ],
   "source": [
    "test_string = \"Mr. X date of birth is 02/10/1989 and email id is test@gmail.com.\"\n",
    "print(\"Email:\", get_email(test_string))\n",
    "print(\"Date:\", get_date(test_string))"
   ]
  },
  {
   "cell_type": "code",
   "execution_count": 57,
   "metadata": {},
   "outputs": [
    {
     "data": {
      "text/plain": [
       "'H.Sapiens'"
      ]
     },
     "execution_count": 57,
     "metadata": {},
     "output_type": "execute_result"
    }
   ],
   "source": [
    "org_name = \"Homo Sapiens\"\n",
    "\n",
    "def shorten_orgName(Name):\n",
    "\n",
    "    shorten_reg = r\"([a-zA-Z])\"\n",
    "    next_name_reg = r\"\\s+(\\S+)\"\n",
    "\n",
    "    first_char = re.search(shorten_reg, Name).group(0)\n",
    "\n",
    "    second_word = re.search(next_name_reg, Name).group(1)\n",
    "\n",
    "    New_org_name = first_char + \".\" + second_word\n",
    "    return New_org_name\n",
    "\n",
    "shorten_orgName(org_name)"
   ]
  },
  {
   "cell_type": "code",
   "execution_count": 58,
   "metadata": {},
   "outputs": [
    {
     "name": "stdout",
     "output_type": "stream",
     "text": [
      "CAA57801_M.Musculus\n"
     ]
    }
   ],
   "source": [
    "id_string = \">CAA57801.1= GFP [Mus Musculus]\"\n",
    "\n",
    "filter1_reg = r\">([^.]+).\"\n",
    "filter2_reg = r\"\\[([^\\]]+)\"\n",
    "\n",
    "id = re.search(filter1_reg, id_string).group(1)\n",
    "com_name = re.search(filter2_reg, id_string).group(1)\n",
    "short_com_name = shorten_orgName(com_name)\n",
    "\n",
    "print(id + \"_\" + short_com_name)\n"
   ]
  },
  {
   "cell_type": "code",
   "execution_count": null,
   "metadata": {},
   "outputs": [
    {
     "name": "stdout",
     "output_type": "stream",
     "text": [
      ">NM_001300425_D.melanogaster_Akt_mRNA\n"
     ]
    }
   ],
   "source": [
    "final_id_string = \">NM_001300425.1 Drosophila melanogaster Akt kinase (Akt), transcript variant E, mRNA\"\n",
    "# Expected output:\n",
    "# >NM_001300425_D.melanogaster_Akt_mRNA\n",
    "\n",
    "initial_id = re.search(filter1_reg,final_id_string).group(1)\n",
    "\n",
    "space_split_reg = r\"\\s(\\S+)\\s(\\S+)\\s\"\n",
    "second_id = re.search(space_split_reg,final_id_string)\n",
    "final_org_name= second_id.group(1) + \" \" + second_id.group(2)\n",
    "final_org_name = shorten_orgName(final_org_name)\n",
    "\n",
    "third_id_reg = r\"\\(([^)]+)\\)\"\n",
    "third_id = re.search(third_id_reg,final_id_string).group(1)\n",
    "\n",
    "lastfour_char_reg = r\"(\\w{4})$\"\n",
    "four_char = re.search(lastfour_char_reg,final_id_string).group(1)\n",
    "\n",
    "print(\">\"+initial_id + \"_\" + final_org_name + \"_\" + third_id + \"_\" + four_char)\n"
   ]
  }
 ],
 "metadata": {
  "kernelspec": {
   "display_name": "Python 3",
   "language": "python",
   "name": "python3"
  },
  "language_info": {
   "codemirror_mode": {
    "name": "ipython",
    "version": 3
   },
   "file_extension": ".py",
   "mimetype": "text/x-python",
   "name": "python",
   "nbconvert_exporter": "python",
   "pygments_lexer": "ipython3",
   "version": "3.12.2"
  }
 },
 "nbformat": 4,
 "nbformat_minor": 2
}
