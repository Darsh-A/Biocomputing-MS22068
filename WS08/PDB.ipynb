{
 "cells": [
  {
   "cell_type": "code",
   "execution_count": null,
   "metadata": {},
   "outputs": [],
   "source": [
    "import pandas as pd"
   ]
  },
  {
   "cell_type": "code",
   "execution_count": null,
   "metadata": {},
   "outputs": [
    {
     "name": "stdout",
     "output_type": "stream",
     "text": [
      "Test 1 LEU\n",
      "Test 2 [52.675, -23.892, 93.371]\n"
     ]
    }
   ],
   "source": [
    "data_file = \"Darsh Suhas Ambade - atom_cord.pdb.txt\"\n",
    "\n",
    "colspecs = [\n",
    "    (0, 6),   # Record type (ATOM)\n",
    "    (6, 11),  # Atom serial number\n",
    "    (12, 16), # Atom name\n",
    "    (17, 20), # Residue name\n",
    "    (21, 22), # Chain ID\n",
    "    (22, 26), # Residue sequence number (RESID)\n",
    "    (30, 38), # X coordinate\n",
    "    (38, 46), # Y coordinate\n",
    "    (46, 54)  # Z coordinate\n",
    "]\n",
    "\n",
    "column_names = [\"Record\", \"AtomSerial\", \"AtomName\", \"ResName\", \"ChainID\", \"ResID\", \"X\", \"Y\", \"Z\"]\n",
    "\n",
    "df = pd.read_fwf(\"Darsh Suhas Ambade - atom_cord.pdb.txt\", colspecs=colspecs, names=column_names)\n",
    "\n",
    "pdb_dict = {}\n",
    "\n",
    "for _, row in df.iterrows():\n",
    "    resid = (row[\"ResID\"])\n",
    "    atom_name = row[\"AtomName\"].strip()\n",
    "    res_name = row[\"ResName\"].strip()\n",
    "    coordinates = [row[\"X\"], row[\"Y\"], row[\"Z\"]]\n",
    "\n",
    "    if resid not in pdb_dict:\n",
    "        pdb_dict[resid] = {\"resname\": res_name}\n",
    "\n",
    "    pdb_dict[resid][atom_name] = coordinates\n",
    "\n",
    "print(pdb_dict)\n",
    "\n",
    "print(\"Test 1\", pdb_dict[5]['resname'])\n",
    "print(\"Test 2\", pdb_dict[5]['CA'])"
   ]
  },
  {
   "cell_type": "code",
   "execution_count": null,
   "metadata": {},
   "outputs": [
    {
     "name": "stdout",
     "output_type": "stream",
     "text": [
      "{'LEU': 27, 'SER': 17, 'ALA': 32, 'GLU': 28, 'ASP': 26, 'LYS': 30, 'VAL': 19, 'ARG': 18, 'MET': 8, 'ILE': 26, 'ASN': 15, 'GLY': 17, 'THR': 20, 'GLN': 13, 'HIS': 6, 'TYR': 13, 'CYS': 9, 'PHE': 19, 'TRP': 3, 'PRO': 4}\n"
     ]
    }
   ],
   "source": [
    "residue_composition = {}\n",
    "\n",
    "for resid in pdb_dict:\n",
    "    resname = pdb_dict[resid][\"resname\"]\n",
    "\n",
    "    if resname in residue_composition:\n",
    "        residue_composition[resname] += 1\n",
    "    else:\n",
    "        residue_composition[resname] = 1 # first occurence\n",
    "\n",
    "print(residue_composition)"
   ]
  },
  {
   "cell_type": "code",
   "execution_count": null,
   "metadata": {},
   "outputs": [
    {
     "name": "stdout",
     "output_type": "stream",
     "text": [
      "Residues have different numbers of atoms\n",
      "Distribution of atom counts:\n",
      "5 atoms: 33 residues\n",
      "6 atoms: 26 residues\n",
      "9 atoms: 71 residues\n",
      "8 atoms: 101 residues\n",
      "7 atoms: 43 residues\n",
      "11 atoms: 36 residues\n",
      "4 atoms: 17 residues\n",
      "10 atoms: 7 residues\n",
      "12 atoms: 13 residues\n",
      "14 atoms: 3 residues\n",
      "Average number of atoms per residue: 8.002857142857144\n",
      "Atom counts by residue type:\n",
      "LEU: Different atom counts, average: 7.89\n",
      "SER: Same atom counts, average: 6.00\n",
      "ALA: Same atom counts, average: 5.00\n",
      "GLU: Same atom counts, average: 9.00\n",
      "ASP: Same atom counts, average: 8.00\n",
      "LYS: Same atom counts, average: 9.00\n",
      "VAL: Same atom counts, average: 7.00\n",
      "ARG: Same atom counts, average: 11.00\n",
      "MET: Same atom counts, average: 8.00\n",
      "ILE: Same atom counts, average: 8.00\n",
      "ASN: Same atom counts, average: 8.00\n",
      "GLY: Same atom counts, average: 4.00\n",
      "THR: Same atom counts, average: 7.00\n",
      "GLN: Same atom counts, average: 9.00\n",
      "HIS: Same atom counts, average: 10.00\n",
      "TYR: Same atom counts, average: 12.00\n",
      "CYS: Same atom counts, average: 6.00\n",
      "PHE: Different atom counts, average: 10.95\n",
      "TRP: Same atom counts, average: 14.00\n",
      "PRO: Same atom counts, average: 7.00\n"
     ]
    }
   ],
   "source": [
    "residue_atom_counts = {}\n",
    "for resid in pdb_dict:\n",
    "    atom_count = len(pdb_dict[resid]) - 1\n",
    "    residue_atom_counts[resid] = atom_count\n",
    "\n",
    "same_atom_count = len(set(residue_atom_counts.values())) == 1\n",
    "if same_atom_count:\n",
    "    print(\"All residues have the same number of atoms:\", list(residue_atom_counts.values())[0])\n",
    "else:\n",
    "    print(\"Residues have different numbers of atoms\")\n",
    "    \n",
    "    atom_count_distribution = {}\n",
    "    for count in residue_atom_counts.values():\n",
    "        if count not in atom_count_distribution:\n",
    "            atom_count_distribution[count] = 1\n",
    "        else:\n",
    "            atom_count_distribution[count] += 1\n",
    "    \n",
    "    print(\"Distribution of atom counts:\")\n",
    "    for count, frequency in atom_count_distribution.items():\n",
    "        print(count, \"atoms:\",frequency, \"residues\")\n",
    "\n",
    "total_atoms = sum(residue_atom_counts.values())\n",
    "total_residues = len(residue_atom_counts)\n",
    "average_atoms = total_atoms / total_residues\n",
    "print(\"Average number of atoms per residue:\", average_atoms)\n",
    "\n",
    "atoms_by_resname = {}\n",
    "for resid in pdb_dict:\n",
    "    resname = pdb_dict[resid][\"resname\"]\n",
    "    atom_count = residue_atom_counts[resid]\n",
    "    \n",
    "    if resname not in atoms_by_resname:\n",
    "        atoms_by_resname[resname] = []\n",
    "    atoms_by_resname[resname].append(atom_count)\n",
    "\n",
    "print(\"Atom counts by residue type:\")\n",
    "for resname, counts in atoms_by_resname.items():\n",
    "    avg = sum(counts) / len(counts)\n",
    "    same = len(set(counts)) == 1\n",
    "    print(f\"{resname}: {'Same' if same else 'Different'} atom counts, average: {avg:.2f}\")"
   ]
  },
  {
   "cell_type": "code",
   "execution_count": 30,
   "metadata": {},
   "outputs": [
    {
     "name": "stdout",
     "output_type": "stream",
     "text": [
      "Average distance between consecutive CA atoms: 3.800\n"
     ]
    }
   ],
   "source": [
    "import math\n",
    "\n",
    "ca_coords = []\n",
    "for resid in sorted(pdb_dict.keys()):\n",
    "    if 'CA' in pdb_dict[resid]:\n",
    "        ca_coords.append(pdb_dict[resid]['CA'])\n",
    "\n",
    "total_distance = 0\n",
    "count = 0\n",
    "\n",
    "for i in range(len(ca_coords) - 1):\n",
    "    v1 = ca_coords[i]\n",
    "    v2 = ca_coords[i + 1]\n",
    "    vdiff = [v2[0] - v1[0], v2[1] - v1[1], v2[2] - v1[2]]\n",
    "    distance = math.sqrt(vdiff[0]**2 + vdiff[1]**2 + vdiff[2]**2)\n",
    "    total_distance += distance\n",
    "    count += 1\n",
    "\n",
    "average_distance = total_distance / count if count > 0 else 0\n",
    "print(f\"Average distance between consecutive CA atoms: {average_distance:.3f}\")"
   ]
  }
 ],
 "metadata": {
  "kernelspec": {
   "display_name": "Python 3",
   "language": "python",
   "name": "python3"
  },
  "language_info": {
   "codemirror_mode": {
    "name": "ipython",
    "version": 3
   },
   "file_extension": ".py",
   "mimetype": "text/x-python",
   "name": "python",
   "nbconvert_exporter": "python",
   "pygments_lexer": "ipython3",
   "version": "3.12.2"
  }
 },
 "nbformat": 4,
 "nbformat_minor": 2
}
