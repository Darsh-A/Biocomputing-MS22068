{
 "cells": [
  {
   "cell_type": "code",
   "execution_count": 29,
   "metadata": {},
   "outputs": [],
   "source": [
    "import numpy as np"
   ]
  },
  {
   "cell_type": "code",
   "execution_count": 30,
   "metadata": {},
   "outputs": [],
   "source": [
    "first_seq = \"ATGCC\"\n",
    "second_seq = \"AGC\"\n"
   ]
  },
  {
   "cell_type": "code",
   "execution_count": 31,
   "metadata": {},
   "outputs": [],
   "source": [
    "class cellValue:\n",
    "    def __init__(self, value, pointer):\n",
    "        self.value = value\n",
    "        self.pointer = pointer\n",
    "\n",
    "    def __str__(self):\n",
    "        return str(self.value)\n",
    "    \n",
    "# maybe could have just made a tuple?"
   ]
  },
  {
   "cell_type": "code",
   "execution_count": 32,
   "metadata": {},
   "outputs": [
    {
     "name": "stdout",
     "output_type": "stream",
     "text": [
      "0 -1 -2 -3 \n",
      "-1 3 2 1 \n",
      "-2 2 3 2 \n",
      "-3 1 5 4 \n",
      "-4 0 4 8 \n",
      "-5 -1 3 7 \n",
      "---------------------------------\n",
      "left left left left \n",
      "up ['diag'] ['left'] ['left'] \n",
      "up ['up'] ['diag'] ['diag', 'left'] \n",
      "up ['up'] ['diag'] ['left'] \n",
      "up ['up'] ['up'] ['diag'] \n",
      "up ['up'] ['up'] ['diag', 'up'] \n"
     ]
    }
   ],
   "source": [
    "\"\"\"\n",
    "Match = +3\n",
    "Mismatch = 0\n",
    "Gap = -1\n",
    "\"\"\"\n",
    "\n",
    "\n",
    "def create_matrix(seq1, seq2):\n",
    "    matrix = np.zeros((len(seq1) + 1, len(seq2) + 1), dtype=cellValue)\n",
    "    for i in range(len(seq1) + 1):\n",
    "        matrix[i][0] = cellValue(-i, \"up\")\n",
    "    for j in range(len(seq2) + 1):\n",
    "        matrix[0][j] = cellValue(-j, \"left\")\n",
    "    return matrix\n",
    "\n",
    "\n",
    "\n",
    "def fill_matrix(matrix, seq1, seq2):\n",
    "    \n",
    "        for i in range(1, len(seq1) + 1):\n",
    "            for j in range(1, len(seq2) + 1):\n",
    "                 \n",
    "                if seq1[i - 1] == seq2[j - 1]:\n",
    "                    match = matrix[i - 1][j - 1].value + 3\n",
    "                else:\n",
    "                    match = matrix[i - 1][j - 1].value  # + 0 This is Mismatch\n",
    "\n",
    "                delete = matrix[i - 1][j].value - 1 # Left\n",
    "                insert = matrix[i][j - 1].value - 1 # Up\n",
    "\n",
    "                max_value = max(match, delete, insert)\n",
    "\n",
    "                # DOESNT ACCOUNT FOR MULTIPLE ROUTES TO MAX VALUE\n",
    "                # if max_value == match:\n",
    "                #     matrix[i][j] = cellValue(max_value, \"diag\")\n",
    "                # elif max_value == delete:\n",
    "                #     matrix[i][j] = cellValue(max_value, \"up\")\n",
    "                # else:\n",
    "                #     matrix[i][j] = cellValue(max_value, \"left\")\n",
    "                pointer = []\n",
    "                if max_value == match:\n",
    "                    pointer.append(\"diag\")\n",
    "                if max_value == delete:\n",
    "                    pointer.append(\"up\")\n",
    "                if max_value == insert:\n",
    "                    pointer.append(\"left\")\n",
    "\n",
    "                matrix[i][j] = cellValue(max_value, pointer)\n",
    "                \n",
    "        return matrix\n",
    "\n",
    "filled_Matrix = fill_matrix(create_matrix(first_seq, second_seq), first_seq, second_seq)\n",
    "\n",
    "def print_matrix(matrix):\n",
    "    for i in range(len(matrix)):\n",
    "        for j in range(len(matrix[i])):\n",
    "            print(matrix[i][j], end=\" \")\n",
    "        print()\n",
    "\n",
    "print_matrix(filled_Matrix)\n",
    "\n",
    "print(\"---------------------------------\")\n",
    "\n",
    "def print_trace(matrix):\n",
    "    for i in range(len(matrix)):\n",
    "        for j in range(len(matrix[i])):\n",
    "            print(matrix[i][j].pointer, end=\" \")\n",
    "        print()\n",
    "\n",
    "print_trace(filled_Matrix)\n",
    "\n"
   ]
  },
  {
   "cell_type": "code",
   "execution_count": null,
   "metadata": {},
   "outputs": [
    {
     "name": "stdout",
     "output_type": "stream",
     "text": [
      "ATGCC\n",
      "A-G-C\n"
     ]
    }
   ],
   "source": [
    "\"\"\"\n",
    "Tracing Back:\n",
    "1. Start at bottom\n",
    "2. If move up penalty in Seq 2  (-)\n",
    "3. If move left penalty in Seq 1 (-)\n",
    "4. If move diagonal, match or mismatch (in this case just write both chars)\n",
    "\n",
    "\"\"\"\n",
    "\n",
    "def trace_back(matrix, seq1, seq2):\n",
    "    i = len(seq1)\n",
    "    j = len(seq2)\n",
    "    seq1_aligned = \"\"\n",
    "    seq2_aligned = \"\"\n",
    "\n",
    "    # TODO:account for multiple routes to max value\n",
    "    \n",
    "    while i > 0 and j > 0:\n",
    "        if \"diag\" in matrix[i][j].pointer:\n",
    "            seq1_aligned = seq1[i - 1] + seq1_aligned\n",
    "            seq2_aligned = seq2[j - 1] + seq2_aligned\n",
    "            i -= 1\n",
    "            j -= 1\n",
    "        elif \"up\" in matrix[i][j].pointer:\n",
    "            seq1_aligned = seq1[i - 1] + seq1_aligned\n",
    "            seq2_aligned = \"-\" + seq2_aligned\n",
    "            i -= 1\n",
    "        elif \"left\" in matrix[i][j].pointer:\n",
    "            seq1_aligned = \"-\" + seq1_aligned\n",
    "            seq2_aligned = seq2[j - 1] + seq2_aligned\n",
    "            j -= 1  \n",
    "    return seq1_aligned, seq2_aligned\n",
    "\n",
    "aligned_seqs = trace_back(filled_Matrix, first_seq, second_seq)\n",
    "\n",
    "print(aligned_seqs[0])\n",
    "print(aligned_seqs[1])"
   ]
  }
 ],
 "metadata": {
  "kernelspec": {
   "display_name": "Python 3",
   "language": "python",
   "name": "python3"
  },
  "language_info": {
   "codemirror_mode": {
    "name": "ipython",
    "version": 3
   },
   "file_extension": ".py",
   "mimetype": "text/x-python",
   "name": "python",
   "nbconvert_exporter": "python",
   "pygments_lexer": "ipython3",
   "version": "3.12.2"
  }
 },
 "nbformat": 4,
 "nbformat_minor": 2
}
