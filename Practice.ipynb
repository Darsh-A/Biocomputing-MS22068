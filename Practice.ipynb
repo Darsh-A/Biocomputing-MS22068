{
 "cells": [
  {
   "cell_type": "code",
   "execution_count": 1,
   "id": "f44f2c9b",
   "metadata": {},
   "outputs": [],
   "source": [
    "import re\n",
    "import numpy as np\n",
    "import pandas as pd"
   ]
  },
  {
   "cell_type": "code",
   "execution_count": 27,
   "id": "8b1438e7",
   "metadata": {},
   "outputs": [
    {
     "name": "stdout",
     "output_type": "stream",
     "text": [
      "Z12029.1\n"
     ]
    }
   ],
   "source": [
    "string1 = \">gi|2827491|emb|Z12029.1| T.gondii mRNA for NTPase\"\n",
    "reg_1 = r'\\|(\\d+)\\|([a-z]+)\\|(.+)\\|'\n",
    "\n",
    "print(re.search(reg_1,string1).group(3)) # Accension"
   ]
  },
  {
   "cell_type": "code",
   "execution_count": 43,
   "id": "4220b418",
   "metadata": {},
   "outputs": [
    {
     "name": "stdout",
     "output_type": "stream",
     "text": [
      "EC:1.14.14.1\n"
     ]
    }
   ],
   "source": [
    "string2 = \"cytochrome P450 [EC:1.14.14.1]\"\n",
    "reg_2= r'(\\w+)\\s(\\w+)\\s\\[(.+)\\]'\n",
    "\n",
    "print(re.search(reg_2,string2).group(3))"
   ]
  }
 ],
 "metadata": {
  "kernelspec": {
   "display_name": "Python 3",
   "language": "python",
   "name": "python3"
  },
  "language_info": {
   "codemirror_mode": {
    "name": "ipython",
    "version": 3
   },
   "file_extension": ".py",
   "mimetype": "text/x-python",
   "name": "python",
   "nbconvert_exporter": "python",
   "pygments_lexer": "ipython3",
   "version": "3.12.2"
  }
 },
 "nbformat": 4,
 "nbformat_minor": 5
}
