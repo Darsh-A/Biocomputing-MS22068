{
 "cells": [
  {
   "cell_type": "code",
   "execution_count": 128,
   "id": "06accda6",
   "metadata": {},
   "outputs": [],
   "source": [
    "\"\"\" Notes so i understand it later \n",
    "\n",
    "*args is for position arguments\n",
    "like func(name, age)\n",
    "\n",
    "**kwargs is for keyword arguments\n",
    "like func(name=\"Darsh\", age=20)\n",
    "\n",
    "Technicallyi dont need kwargs here but its ok its dynamic anyways\n",
    "so ig good to include both at the same timer\n",
    "\n",
    "\"\"\"\n",
    "\n",
    "def printDecorator(func):\n",
    "    def wrapper(*args, **kwargs):\n",
    "        block = \"\"\n",
    "        print(func.__name__ + \": \" + str(func(*args, **kwargs)))\n",
    "        return block # i dont wanna return none ig but keep it in the same line\n",
    "    return wrapper"
   ]
  },
  {
   "cell_type": "code",
   "execution_count": 129,
   "id": "a9f5b69f",
   "metadata": {},
   "outputs": [],
   "source": [
    "class Sequence:\n",
    "    total_length = 0 \n",
    "\n",
    "    def __init__(self, seq: str):\n",
    "        self.seq = seq.upper()\n",
    "        self.length = len(self.seq) \n",
    "        self.__class__.total_length += self.length # just so i can use classmethod, has no significance tbh \n",
    "\n",
    "    @classmethod\n",
    "    @printDecorator\n",
    "    def get_total_length(cls):\n",
    "        return cls.total_length\n",
    "\n",
    "    @printDecorator\n",
    "    def DnaOrProtein(self):\n",
    "        letters = ['A', 'C', 'G', 'T']\n",
    "        for letter in self.seq:\n",
    "            if letter not in letters:\n",
    "                return \"Protein\"\n",
    "        return \"DNA\"\n",
    "\n",
    "    @printDecorator\n",
    "    def get_composition(self):\n",
    "        comp = {}\n",
    "        for letter in self.seq:\n",
    "            comp[letter] = comp.get(letter, 0) + 1\n",
    "        return comp\n",
    "\n",
    "    @printDecorator\n",
    "    def motif_finder(self, motif):\n",
    "        count = 0\n",
    "        positions = []\n",
    "        for i in range(self.length - len(motif) + 1):\n",
    "            if self.seq[i:i+len(motif)] == motif:\n",
    "                count += 1\n",
    "                positions.append(i)\n",
    "        return count, positions\n",
    "    \n",
    "    @staticmethod\n",
    "    @printDecorator\n",
    "    def has_some_codon(seq, codon):\n",
    "        for i in range(0, len(seq), 3):\n",
    "            if seq[i:i+3] == codon:\n",
    "                return True\n",
    "        return False\n"
   ]
  },
  {
   "cell_type": "code",
   "execution_count": 130,
   "id": "1ce1c579",
   "metadata": {},
   "outputs": [
    {
     "name": "stdout",
     "output_type": "stream",
     "text": [
      "DnaOrProtein: DNA\n",
      "\n",
      "get_total_length: 12\n",
      "\n",
      "get_composition: {'A': 3, 'T': 3, 'C': 3, 'G': 3}\n",
      "\n",
      "motif_finder: (3, [0, 4, 8])\n",
      "\n",
      "has_some_codon: True\n",
      "\n"
     ]
    }
   ],
   "source": [
    "Seq = Sequence(\"ATCGATCGATCG\")\n",
    "print(Seq.DnaOrProtein())\n",
    "print(Seq.get_total_length())\n",
    "print(Seq.get_composition())\n",
    "print(Seq.motif_finder(\"ATCG\"))\n",
    "print(Seq.has_some_codon(Seq.seq, \"ATC\"))\n"
   ]
  },
  {
   "cell_type": "code",
   "execution_count": 131,
   "id": "09927cae",
   "metadata": {},
   "outputs": [],
   "source": [
    "# CHiild Protein class\n",
    "\n",
    "class Protein(Sequence):\n",
    "    pass # idk what else to do?"
   ]
  },
  {
   "cell_type": "code",
   "execution_count": null,
   "id": "a3ba15be",
   "metadata": {},
   "outputs": [
    {
     "name": "stdout",
     "output_type": "stream",
     "text": [
      "ORF found: ATGCCCGGGTTTTAG\n"
     ]
    }
   ],
   "source": [
    "# Child DNA class\n",
    "\n",
    "class DNA(Sequence):\n",
    "    def find_orf(self):\n",
    "        sequence = self.seq\n",
    "        \n",
    "        start_codon = \"ATG\"\n",
    "        stop_codons = [\"TAA\", \"TAG\", \"TGA\"]\n",
    "        \n",
    "        orf = \"\"\n",
    "\n",
    "        for i in range(len(sequence)-2):\n",
    "            if sequence[i:i+3] == start_codon:\n",
    "                for j in range(i, len(sequence)-2, 3):\n",
    "                    if sequence[j:j+3] in stop_codons:\n",
    "                        orf = sequence[i:j+3]\n",
    "                        break\n",
    "                if orf:\n",
    "                    break\n",
    "        if orf:\n",
    "            return f\"ORF found: {orf}\"\n",
    "        else:\n",
    "            return \"No ORF founf\"\n",
    "    \n",
    "dna_seq = DNA(\"aaaatgcccgggttttagcccATGAAATGATAG\")\n",
    "print(dna_seq.find_orf())"
   ]
  }
 ],
 "metadata": {
  "kernelspec": {
   "display_name": "Python 3",
   "language": "python",
   "name": "python3"
  },
  "language_info": {
   "codemirror_mode": {
    "name": "ipython",
    "version": 3
   },
   "file_extension": ".py",
   "mimetype": "text/x-python",
   "name": "python",
   "nbconvert_exporter": "python",
   "pygments_lexer": "ipython3",
   "version": "3.12.2"
  }
 },
 "nbformat": 4,
 "nbformat_minor": 5
}
