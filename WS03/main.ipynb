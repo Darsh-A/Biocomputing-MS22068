{
 "cells": [
  {
   "cell_type": "code",
   "execution_count": null,
   "metadata": {},
   "outputs": [],
   "source": [
    "# Program to check matching username and password\n",
    "def check_username_password():\n",
    "    correct_username = \"user123\"\n",
    "    correct_password = \"password123\"\n",
    "\n",
    "    # Attemps 5\n",
    "    for attempt in range(5):\n",
    "        username = input(\"Enter username: \")\n",
    "        password = input(\"Enter password: \")\n",
    "        \n",
    "        if username == correct_username and password == correct_password:\n",
    "            print(\"Login successful!\")\n",
    "            break\n",
    "        else:\n",
    "            print(\"Incorrect username or password. Try again.\")\n",
    "    else:\n",
    "        print(\"Max attempts reached. Access denied.\")\n",
    "\n",
    "check_username_password()\n"
   ]
  },
  {
   "cell_type": "code",
   "execution_count": null,
   "metadata": {},
   "outputs": [],
   "source": [
    "# Infinite attempts\n",
    "def check_username_password_infinite():\n",
    "    correct_username = \"user123\"\n",
    "    correct_password = \"password123\"\n",
    "    \n",
    "    while True:\n",
    "        username = input(\"Enter username: \")\n",
    "        password = input(\"Enter password: \")\n",
    "        \n",
    "        if username == correct_username and password == correct_password:\n",
    "            print(\"Login successful!\")\n",
    "            break\n",
    "        else:\n",
    "            print(\"Incorrect username or password. Try again.\")\n",
    "\n",
    "check_username_password_infinite()\n"
   ]
  },
  {
   "cell_type": "code",
   "execution_count": 1,
   "metadata": {},
   "outputs": [
    {
     "name": "stdout",
     "output_type": "stream",
     "text": [
      "Composition of the sequence (n-mer counts):\n",
      "ATG: 1\n",
      "TGC: 1\n",
      "GCT: 2\n",
      "CTA: 2\n",
      "TAG: 1\n",
      "AGC: 1\n",
      "TAT: 1\n"
     ]
    }
   ],
   "source": [
    "#compute DNA composition \n",
    "def find_dna_composition():\n",
    "    sequence = input(\"Enter a DNA sequence: \").upper()\n",
    "    n = int(input(\"Enter the length of n-mer (e.g., 2 for dimers, 3 for trimers): \"))\n",
    "    \n",
    "    composition = {}\n",
    "    \n",
    "    for i in range(len(sequence) - n + 1):\n",
    "        n_mer = sequence[i:i+n]\n",
    "        if n_mer in composition:\n",
    "            composition[n_mer] += 1\n",
    "        else:\n",
    "            composition[n_mer] = 1\n",
    "    \n",
    "    print(\"Composition of the sequence (n-mer counts):\")\n",
    "    for n_mer, count in composition.items():\n",
    "        print(f\"{n_mer}: {count}\")\n",
    "\n",
    "find_dna_composition()\n"
   ]
  },
  {
   "cell_type": "code",
   "execution_count": null,
   "metadata": {},
   "outputs": [],
   "source": [
    "# find ORF for a given DNA sequence\n",
    "def find_orf():\n",
    "    sequence = input(\"Enter a DNA sequence: \").upper()\n",
    "    \n",
    "    start_codon = \"ATG\"\n",
    "    stop_codons = [\"TAA\", \"TAG\", \"TGA\"]\n",
    "    \n",
    "    orf = \"\"\n",
    "    in_orf = False\n",
    "    for i in range(0, len(sequence) - 2, 3):\n",
    "        codon = sequence[i:i+3]\n",
    "        \n",
    "        # Start of ORF\n",
    "        if codon == start_codon and not in_orf:\n",
    "            in_orf = True\n",
    "            orf = codon\n",
    "        \n",
    "        # End of ORF\n",
    "        elif codon in stop_codons and in_orf:\n",
    "            orf += codon\n",
    "            print(f\"Found ORF: {orf}\")\n",
    "            break\n",
    "        elif in_orf:\n",
    "            orf += codon\n",
    "    \n",
    "    if not orf:\n",
    "        print(\"No ORF found\")\n",
    "\n",
    "find_orf()\n"
   ]
  }
 ],
 "metadata": {
  "kernelspec": {
   "display_name": "Python 3",
   "language": "python",
   "name": "python3"
  },
  "language_info": {
   "codemirror_mode": {
    "name": "ipython",
    "version": 3
   },
   "file_extension": ".py",
   "mimetype": "text/x-python",
   "name": "python",
   "nbconvert_exporter": "python",
   "pygments_lexer": "ipython3",
   "version": "3.12.2"
  }
 },
 "nbformat": 4,
 "nbformat_minor": 2
}
