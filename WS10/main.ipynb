{
 "cells": [
  {
   "cell_type": "code",
   "execution_count": 1,
   "metadata": {},
   "outputs": [],
   "source": [
    "import numpy as np"
   ]
  },
  {
   "cell_type": "code",
   "execution_count": null,
   "metadata": {},
   "outputs": [],
   "source": [
    "class Sequence:\n",
    "    def __init__(self, sequence:str):\n",
    "        self.sequence = sequence.upper()\n",
    "        self.length = len(sequence)\n",
    "        self.label = self.identify()\n",
    "\n",
    "    def identify(self):\n",
    "        dna = ['A', 'C', 'G', 'T']\n",
    "        for i in self.sequence:\n",
    "            if i not in dna:\n",
    "                return 'Protein'\n",
    "        return 'DNA'\n",
    "    \n",
    "    def composition(self, num:int): # n=2 dimer or n=3 timer\n",
    "        comp = {}\n",
    "\n",
    "        for i in range(self.length - num + 1):\n",
    "            seq = self.sequence[i:i+num]\n",
    "            if seq in comp:\n",
    "                comp[seq] += 1\n",
    "            else:\n",
    "                comp[seq] = 1\n",
    "        return comp"
   ]
  },
  {
   "cell_type": "code",
   "execution_count": 19,
   "metadata": {},
   "outputs": [
    {
     "name": "stdout",
     "output_type": "stream",
     "text": [
      "DNA\n",
      "8\n"
     ]
    },
    {
     "data": {
      "text/plain": [
       "{'ACG': 2, 'CGT': 2, 'GTA': 1, 'TAC': 1}"
      ]
     },
     "execution_count": 19,
     "metadata": {},
     "output_type": "execute_result"
    }
   ],
   "source": [
    "DNA = Sequence(\"ACGTACGT\")\n",
    "\n",
    "print(DNA.label)  \n",
    "print(DNA.length)\n",
    "DNA.composition(3)\n"
   ]
  }
 ],
 "metadata": {
  "kernelspec": {
   "display_name": "Python 3",
   "language": "python",
   "name": "python3"
  },
  "language_info": {
   "codemirror_mode": {
    "name": "ipython",
    "version": 3
   },
   "file_extension": ".py",
   "mimetype": "text/x-python",
   "name": "python",
   "nbconvert_exporter": "python",
   "pygments_lexer": "ipython3",
   "version": "3.12.2"
  }
 },
 "nbformat": 4,
 "nbformat_minor": 2
}
