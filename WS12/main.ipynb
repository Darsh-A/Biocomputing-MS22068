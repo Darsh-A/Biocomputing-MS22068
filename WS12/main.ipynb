{
 "cells": [
  {
   "cell_type": "markdown",
   "id": "17674467",
   "metadata": {},
   "source": [
    "#### Genbank: \n",
    "https://www.ncbi.nlm.nih.gov/genbank/"
   ]
  },
  {
   "cell_type": "code",
   "execution_count": 121,
   "id": "d0dd4f22",
   "metadata": {},
   "outputs": [],
   "source": [
    "import numpy as np\n",
    "import pandas as pd\n",
    "import re"
   ]
  },
  {
   "cell_type": "code",
   "execution_count": 122,
   "id": "f89db0a8",
   "metadata": {},
   "outputs": [
    {
     "data": {
      "text/plain": [
       "'\\nLOCUS       ...\\nDEFINITION  ...\\nACCESSION   ...\\nVERSION     ...\\nDBLINKS     ...\\nKEYWORDS    ...\\nSOURCE      ...\\nREFERENCE   ...\\n    CONSRTM\\n    TITLE\\n    JOURNAL\\nx3\\nCOMMENT     ...\\nFEATURES             Location/Qualifiers\\n    source           1..206\\n    misc_feature\\n    regulatory\\n    gene\\n    mRNA\\n    CDS\\n    exon\\n    ................\\nORIGIN\\n    1 atgcgtaa ...\\n    61 ggtttgcgac ...\\n    121 ggggggttta ...   // Step of 60\\n'"
      ]
     },
     "execution_count": 122,
     "metadata": {},
     "output_type": "execute_result"
    }
   ],
   "source": [
    "file = 'ptenSequence.gb'\n",
    "\n",
    "# so the data is structured \n",
    "\"\"\"\n",
    "LOCUS       ...\n",
    "DEFINITION  ...\n",
    "ACCESSION   ...\n",
    "VERSION     ...\n",
    "DBLINKS     ...\n",
    "KEYWORDS    ...\n",
    "SOURCE      ...\n",
    "REFERENCE   ...\n",
    "    CONSRTM\n",
    "    TITLE\n",
    "    JOURNAL\n",
    "x3\n",
    "COMMENT     ...\n",
    "FEATURES             Location/Qualifiers\n",
    "    source           1..206\n",
    "    misc_feature\n",
    "    regulatory\n",
    "    gene\n",
    "    mRNA\n",
    "    CDS\n",
    "    exon\n",
    "    ................\n",
    "ORIGIN\n",
    "    1 atgcgtaa ...\n",
    "    61 ggtttgcgac ...\n",
    "    121 ggggggttta ...   // Step of 60\n",
    "\"\"\"\n",
    "\n",
    "# Best way to organize the data will be to use Dictionaries igg\n",
    "# can loop through the lines and check for keywords and extract the following lines till the next keyword or when the trailing whitespace ends"
   ]
  },
  {
   "cell_type": "code",
   "execution_count": 123,
   "id": "c6b4e972",
   "metadata": {},
   "outputs": [],
   "source": [
    "def readFile(file):\n",
    "    try:\n",
    "        with open(file) as f:\n",
    "            lines = f.readlines()\n",
    "        return lines\n",
    "    except FileNotFoundError:\n",
    "        print(f\"File {file} not found.\")\n",
    "        return None\n",
    "    \n",
    "data = readFile(file)"
   ]
  },
  {
   "cell_type": "code",
   "execution_count": 124,
   "id": "0c28c4bd",
   "metadata": {},
   "outputs": [],
   "source": [
    "# ===== Helper Functions =====\n",
    "\n",
    "def hasMainKeyword(line):\n",
    "    findMainKeyandContent = r'^([A-Z]+)\\s+(.+)'\n",
    "    match = re.search(findMainKeyandContent, line)\n",
    "    if match:\n",
    "        return {\n",
    "            'keyword': match.group(1).strip(),\n",
    "            'content': match.group(2).strip(),\n",
    "            'indentation': 0\n",
    "        }\n",
    "    return None\n",
    "\n",
    "def hasSubKeyword(line):\n",
    "    findSubKey = r'^(\\s+)([A-Z]+)\\s+(.+)'\n",
    "    match = re.search(findSubKey, line)\n",
    "    if match:\n",
    "        return {\n",
    "            'keyword': match.group(2).strip(),\n",
    "            'content': match.group(3).strip(),\n",
    "            'indentation': match.group(1).count(' ')\n",
    "        }\n",
    "    return None\n",
    "\n",
    "def hasOnlyContent(line):\n",
    "    findOnlyContent = r'^\\s+(.+)'\n",
    "    match = re.search(findOnlyContent, line)\n",
    "    if match:\n",
    "        return {\n",
    "            'content': match.group(1).strip()\n",
    "        }\n",
    "    return None\n",
    "\n",
    "def findParentKeyword(line,data,index=106):\n",
    "    if hasSubKeyword(line):\n",
    "        subKeyword = hasSubKeyword(line)\n",
    "        for i in range(index, -1, -1):\n",
    "            parentLine = data[i]\n",
    "            parentKeyword = hasMainKeyword(parentLine) or hasSubKeyword(parentLine)\n",
    "            if parentKeyword and parentKeyword['indentation'] < subKeyword['indentation']:\n",
    "                return parentKeyword['keyword']\n",
    "    if hasOnlyContent(line):\n",
    "        for i in range(index, -1, -1):\n",
    "            parentLine = data[i]\n",
    "            parentKeyword = hasMainKeyword(parentLine) or hasSubKeyword(parentLine)\n",
    "            if parentKeyword:\n",
    "                return parentKeyword['keyword']\n",
    "    return None\n",
    "\n",
    "\n",
    "# findParentKeyword('            CM000672.2.',data)\n"
   ]
  },
  {
   "cell_type": "code",
   "execution_count": 128,
   "id": "0f3531ca",
   "metadata": {},
   "outputs": [],
   "source": [
    "fixed_data = {}\n",
    "last_main = None\n",
    "last_sub = {}\n",
    "\n",
    "\n",
    "for i, line in enumerate(data):\n",
    "    mainKeyword = hasMainKeyword(line)\n",
    "    subKeyword = hasSubKeyword(line)\n",
    "    onlyContent = hasOnlyContent(line)\n",
    "\n",
    "    if mainKeyword:\n",
    "        key = mainKeyword['keyword']\n",
    "        fixed_data[key] = {\n",
    "            'content': mainKeyword['content'],\n",
    "            'subKeywords': {}\n",
    "        }\n",
    "        last_main = key\n",
    "        last_sub[key] = None \n",
    "\n",
    "\n",
    "    elif subKeyword:\n",
    "        parent = findParentKeyword(line, data, i)\n",
    "        if parent and parent in fixed_data:\n",
    "            sub_key = subKeyword['keyword']\n",
    "            fixed_data[parent]['subKeywords'][sub_key] = subKeyword['content']\n",
    "            last_sub[parent] = sub_key\n",
    "\n",
    "    elif onlyContent:\n",
    "        parent = findParentKeyword(line, data, i)\n",
    "        if parent in fixed_data:\n",
    "            if last_sub.get(parent): \n",
    "                sub_key = last_sub[parent]\n",
    "                fixed_data[parent]['subKeywords'][sub_key] += '\\n' + onlyContent['content']\n",
    "            else: \n",
    "                fixed_data[parent]['content'] += '\\n' + onlyContent['content'] \n",
    "\n",
    "\n",
    "fixed_data # i have a headache now\n",
    "\n",
    "#create dataframe\n",
    "df = pd.DataFrame.from_dict(fixed_data, orient='index')\n"
   ]
  },
  {
   "cell_type": "code",
   "execution_count": 137,
   "id": "5b530992",
   "metadata": {},
   "outputs": [
    {
     "data": {
      "text/plain": [
       "'Location/Qualifiers\\nsource          1..108306\\n/organism=\"Homo sapiens\"\\n/mol_type=\"genomic DNA\"\\n/db_xref=\"taxon:9606\"\\n/chromosome=\"10\"\\nmisc_feature    <1..65\\n/standard_name=\"ATAC-STARR-seq lymphoblastoid silent\\nregion 2585\"\\n/note=\"Region: biological region; Derived by automated\\ncomputational analysis using gene prediction method:\\nRefSeqFE.\"\\n/db_xref=\"GeneID:130004273\"\\nregulatory      <1..65\\n/regulatory_class=\"silencer\"\\n/experiment=\"EXISTENCE:reporter gene assay evidence\\n[ECO:0000049][PMID:35858748]\"\\n/note=\"silent region_2585\"\\n/function=\"represses an Ori minimal core promoter by\\nATAC-STARR-seq in GM12878 lymphoblastoid cells\\n{active_cell/tissue: GM12878}\"\\n/db_xref=\"GeneID:130004273\"\\ngene            1..108306\\n/gene=\"PTEN\"\\n/gene_synonym=\"10q23del; BZS; CWS1; DEC; GLM2; MHAM;\\nMMAC1; PTEN1; PTENbeta; PTENgama; TEP1\"\\n/note=\"phosphatase and tensin homolog; Derived by\\nautomated computational analysis using gene prediction\\nmethod: BestRefSeq.\"\\n/db_xref=\"GeneID:5728\"\\n/db_xref=\"HGNC:HGNC:9588\"\\n/db_xref=\"MIM:601728\"\\nmRNA            join(1..924,30401..30485,61889..61933,67422..67465,\\n69389..69627,88494..88635,94229..94395,97270..97494,\\n101663..108306)\\n/gene=\"PTEN\"\\n/gene_synonym=\"10q23del; BZS; CWS1; DEC; GLM2; MHAM;\\nMMAC1; PTEN1; PTENbeta; PTENgama; TEP1\"\\n/product=\"phosphatase and tensin homolog, transcript\\nvariant 2\"\\n/inference=\"similar to RNA sequence, mRNA (same\\nspecies):RefSeq:NM_001304717.5\"\\n/exception=\"annotated by transcript or proteomic data\"\\n/note=\"The RefSeq transcript has 1 substitution, 1\\nframeshift compared to this genomic sequence; Derived by\\nautomated computational analysis using gene prediction\\nmethod: BestRefSeq.\"\\n/transcript_id=\"NM_001304717.5\"\\n/db_xref=\"GeneID:5728\"\\n/db_xref=\"HGNC:HGNC:9588\"\\n/db_xref=\"MIM:601728\"\\nmRNA            join(1..924,30401..30485,61889..61933,67422..67465,\\n69389..69627,88494..88635,94229..94395,97270..97494,\\n101663..108306)\\n/gene=\"PTEN\"\\n/gene_synonym=\"10q23del; BZS; CWS1; DEC; GLM2; MHAM;\\nMMAC1; PTEN1; PTENbeta; PTENgama; TEP1\"\\n/product=\"phosphatase and tensin homolog, transcript\\nvariant 1\"\\n/note=\"Derived by automated computational analysis using\\ngene prediction method: BestRefSeq.\"\\n/transcript_id=\"NM_000314.8\"\\n/db_xref=\"Ensembl:ENST00000371953.8\"\\n/db_xref=\"GeneID:5728\"\\n/db_xref=\"HGNC:HGNC:9588\"\\n/db_xref=\"MIM:601728\"\\nmRNA            join(1..924,30401..30485,67422..67465,69389..69627,\\n78987..79145,88494..88635,94229..94395,97270..97494,\\n101663..108306)\\n/gene=\"PTEN\"\\n/gene_synonym=\"10q23del; BZS; CWS1; DEC; GLM2; MHAM;\\nMMAC1; PTEN1; PTENbeta; PTENgama; TEP1\"\\n/product=\"phosphatase and tensin homolog, transcript\\nvariant 3\"\\n/inference=\"similar to RNA sequence, mRNA (same\\nspecies):RefSeq:NM_001304718.2\"\\n/exception=\"annotated by transcript or proteomic data\"\\n/note=\"The RefSeq transcript has 1 substitution, 1\\nnon-frameshifting indel compared to this genomic sequence;\\nDerived by automated computational analysis using gene\\nprediction method: BestRefSeq.\"\\n/transcript_id=\"NM_001304718.2\"\\n/db_xref=\"GeneID:5728\"\\n/db_xref=\"HGNC:HGNC:9588\"\\n/db_xref=\"MIM:601728\"\\nmisc_feature    156..295\\n/standard_name=\"ATAC-STARR-seq lymphoblastoid silent\\nregion 2586\"\\n/note=\"Region: biological region; Derived by automated\\ncomputational analysis using gene prediction method:\\nRefSeqFE.\"\\n/db_xref=\"GeneID:130004274\"\\nregulatory      156..295\\n/regulatory_class=\"silencer\"\\n/experiment=\"EXISTENCE:reporter gene assay evidence\\n[ECO:0000049][PMID:35858748]\"\\n/note=\"silent region_2586\"\\n/function=\"represses an Ori minimal core promoter by\\nATAC-STARR-seq in GM12878 lymphoblastoid cells\\n{active_cell/tissue: GM12878}\"\\n/db_xref=\"GeneID:130004274\"'"
      ]
     },
     "execution_count": 137,
     "metadata": {},
     "output_type": "execute_result"
    }
   ],
   "source": [
    "df\n",
    "\n",
    "# get subkeywords of REFERENCE\n",
    "# df['subKeywords']['REFERENCE']\n",
    "\n",
    "df['content']['FEATURES']"
   ]
  },
  {
   "cell_type": "code",
   "execution_count": 138,
   "id": "ccaaf596",
   "metadata": {},
   "outputs": [],
   "source": [
    "df.to_csv('parsed_genbank.csv', index=True)"
   ]
  },
  {
   "cell_type": "code",
   "execution_count": null,
   "id": "65b023bd",
   "metadata": {},
   "outputs": [],
   "source": [
    "class GenBank:\n",
    "    def __init__(self):\n",
    "        self.data = readFile(file)\n",
    "        self.orgName = None\n",
    "        self.geneName = None\n",
    "    "
   ]
  }
 ],
 "metadata": {
  "kernelspec": {
   "display_name": "Python 3",
   "language": "python",
   "name": "python3"
  },
  "language_info": {
   "codemirror_mode": {
    "name": "ipython",
    "version": 3
   },
   "file_extension": ".py",
   "mimetype": "text/x-python",
   "name": "python",
   "nbconvert_exporter": "python",
   "pygments_lexer": "ipython3",
   "version": "3.12.2"
  }
 },
 "nbformat": 4,
 "nbformat_minor": 5
}
