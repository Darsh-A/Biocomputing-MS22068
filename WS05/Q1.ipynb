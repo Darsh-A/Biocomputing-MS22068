{
 "cells": [
  {
   "cell_type": "code",
   "execution_count": 1,
   "metadata": {},
   "outputs": [],
   "source": [
    "user_data = {}"
   ]
  },
  {
   "cell_type": "code",
   "execution_count": 2,
   "metadata": {},
   "outputs": [],
   "source": [
    "def is_valid_password(password):\n",
    "    if len(password) < 10:\n",
    "        return False\n",
    "    if \" \" in password:\n",
    "        return False\n",
    "        \n",
    "    \n",
    "    has_upper = has_lower = has_digit = has_symbol = False\n",
    "    allowed_symbols = \"@#\" # can add more stuff here\n",
    "\n",
    "    for char in password:\n",
    "        if char.isupper():\n",
    "            has_upper = True\n",
    "        elif char.islower():\n",
    "            has_lower = True\n",
    "        elif char.isdigit():\n",
    "            has_digit = True\n",
    "        elif char in allowed_symbols:\n",
    "            has_symbol = True\n",
    "        else:\n",
    "            has_symbol = True\n",
    "\n",
    "    return has_upper and has_lower and has_digit and has_symbol\n",
    "\n",
    "\n",
    "def update_password(username):\n",
    "    if username not in user_data:\n",
    "        print(\"Username not found\")\n",
    "        return\n",
    "    \n",
    "    old_passwords = user_data[username]\n",
    "    while True:\n",
    "        new_password = input(\"Enter new password: \")\n",
    "        \n",
    "        if not is_valid_password(new_password):\n",
    "            print(\"Password must be at least 10 characters long, contain one uppercase letter, one lowercase letter, one number, one symbol, and no spaces.\")\n",
    "            continue\n",
    "        \n",
    "        if new_password in old_passwords:\n",
    "            print(\"New password must not be the same as the last three passwords.\")\n",
    "            continue\n",
    "\n",
    "        old_passwords.append(new_password)\n",
    "        if len(old_passwords) > 3:\n",
    "            old_passwords.pop(0)\n",
    "        \n",
    "        print(\"Password updated\")\n",
    "        break\n",
    "\n",
    "\n",
    "def create_user():\n",
    "    username = input(\"Enter your username: \")\n",
    "    while username in user_data:\n",
    "        print(\"Username already exists\")\n",
    "        username = input(\"Enter your username: \")\n",
    "    \n",
    "    password = input(\"Enter your password: \")\n",
    "    while not is_valid_password(password):\n",
    "        print(\"Password is invalid\")\n",
    "        password = input(\"Enter your password: \")\n",
    "\n",
    "    user_data[username] = password\n",
    "    print(\"User created successfully\")"
   ]
  },
  {
   "cell_type": "code",
   "execution_count": 5,
   "metadata": {},
   "outputs": [
    {
     "name": "stdout",
     "output_type": "stream",
     "text": [
      "1. Create user\n",
      "2. Update password\n",
      "3. Exit\n",
      "User created successfully\n",
      "1. Create user\n",
      "2. Update password\n",
      "3. Exit\n"
     ]
    }
   ],
   "source": [
    "while True:\n",
    "    print(\"1. Create user\")\n",
    "    print(\"2. Update password\")\n",
    "    print(\"3. Exit\")\n",
    "    choice = input(\"Enter your choice: \")\n",
    "\n",
    "    if choice == \"1\":\n",
    "        create_user()\n",
    "    elif choice == \"2\":\n",
    "        update_password(input(\"Enter your username: \"))\n",
    "    elif choice == \"3\":\n",
    "        break\n",
    "    else:\n",
    "        print(\"Invalid choice\")"
   ]
  },
  {
   "cell_type": "code",
   "execution_count": 6,
   "metadata": {},
   "outputs": [
    {
     "data": {
      "text/plain": [
       "{'1': 'Abcdef123@', 'Ardo': 'Abcdef123@'}"
      ]
     },
     "execution_count": 6,
     "metadata": {},
     "output_type": "execute_result"
    }
   ],
   "source": [
    "user_data"
   ]
  }
 ],
 "metadata": {
  "kernelspec": {
   "display_name": "Python 3",
   "language": "python",
   "name": "python3"
  },
  "language_info": {
   "codemirror_mode": {
    "name": "ipython",
    "version": 3
   },
   "file_extension": ".py",
   "mimetype": "text/x-python",
   "name": "python",
   "nbconvert_exporter": "python",
   "pygments_lexer": "ipython3",
   "version": "3.12.2"
  }
 },
 "nbformat": 4,
 "nbformat_minor": 2
}
