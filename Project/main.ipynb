{
 "cells": [
  {
   "cell_type": "code",
   "execution_count": 133,
   "id": "78c21f62",
   "metadata": {},
   "outputs": [],
   "source": [
    "import requests\n",
    "import re\n",
    "import numpy as np\n",
    "\n",
    "# COnfig\n",
    "## Define Protein Sequences to run here:\n",
    "protein_sequences = [ \"Q15836\", \"Q01524\", \"P02652\", \"P02818\", \"O60516\", \"P05114\", \"Q9BXV9\", \"Q9BV40\", \"P00974\", \"P0AFE4\"]"
   ]
  },
  {
   "cell_type": "code",
   "execution_count": 134,
   "id": "6b70c886",
   "metadata": {},
   "outputs": [
    {
     "name": "stdout",
     "output_type": "stream",
     "text": [
      ">sp|P00974|BPT1_BOVIN Pancreatic trypsin inhibitor OS=Bos taurus OX=9913 PE=1 SV=2\n",
      "MKMSRLCLSVALLVLLGTLAASTPGCDTSNQAKAQRPDFCLEPPYTGPCKARIIRYFYNA\n",
      "KAGLCQTFVYGGCRAKRNNFKSAEDCMRTCGGAIGPWENL\n",
      "\n",
      ">sp|Q9BV40|VAMP8_HUMAN Vesicle-associated membrane protein 8 OS=Homo sapiens OX=9606 GN=VAMP8 PE=1 SV=1\n",
      "MEEASEGGGNDRVRNLQSEVEGVKNIMTQNVERILARGENLEHLRNKTEDLEATSEHFKT\n",
      "TSQKVARKFWWKNVKMIVLICVIVFIIILFIVLFATGAFS\n",
      "\n"
     ]
    }
   ],
   "source": [
    "# Using Uniprot API to get protein sequence\n",
    "\n",
    "# Query to fetch 10 random sequences of length 100\n",
    "\"https://rest.uniprot.org/uniprotkb/search?query=(length:[100 TO {100}])&format=fasta&size=10\"\n",
    "\n",
    "def getProtSeq(accession):\n",
    "    url = f\"https://www.uniprot.org/uniprot/{accession}.fasta\"\n",
    "    response = requests.get(url)\n",
    "    return response.text\n",
    "\n",
    "# sample\n",
    "print(getProtSeq(\"P00974\"))\n",
    "print(getProtSeq(\"Q9BV40\"))"
   ]
  },
  {
   "cell_type": "code",
   "execution_count": null,
   "id": "38302a88",
   "metadata": {},
   "outputs": [],
   "source": [
    "def format_fasta(seq):\n",
    "    data = {\"header\": {}, \"sequence\": \"\"}\n",
    "    header = r'^>(sp|tr)\\|([A-Z0-9]+)\\|([A-Z0-9_]+)\\s+(.+?)\\s+OS=(.+?)\\s+OX=(\\d+)(?:\\s+GN=([^\\s]+))?(?:\\s+PE=(\\d+))?(?:\\s+SV=(\\d+))?' # Makes GN an optional field cause for some reason some data didnt have it\n",
    "    filtered_seq = re.match(header, seq)\n",
    "\n",
    "    if seq == \"\":\n",
    "        return print(\"EMPTY DATA FETCHED. Check the accession again.\")\n",
    "    \n",
    "    \n",
    "    if filtered_seq:\n",
    "        data[\"header\"][\"accession\"] = filtered_seq.group(2)\n",
    "        data[\"header\"][\"name\"] = filtered_seq.group(3)\n",
    "        data[\"header\"][\"description\"] = filtered_seq.group(4)\n",
    "        data[\"header\"][\"organism\"] = filtered_seq.group(5)\n",
    "        data[\"header\"][\"ox\"] = filtered_seq.group(6)\n",
    "        data[\"header\"][\"gene\"] = filtered_seq.group(7)\n",
    "        data[\"header\"][\"pe\"] = filtered_seq.group(8)\n",
    "        data[\"header\"][\"sv\"] = filtered_seq.group(9)\n",
    "    \n",
    "        data[\"sequence\"] = seq.splitlines()[1:]\n",
    "    return data\n",
    "\n",
    "# format_fasta(getProtSeq(\"P69905\"))\n"
   ]
  },
  {
   "cell_type": "code",
   "execution_count": 136,
   "id": "1e36e0b5",
   "metadata": {},
   "outputs": [],
   "source": [
    "class protein:\n",
    "    def __init__(self, accession):\n",
    "        self.accession = accession\n",
    "        self.sequence = None\n",
    "        self.header = None\n",
    "\n",
    "    def fetch_sequence(self):\n",
    "        fasta_data = getProtSeq(self.accession)\n",
    "        formatted_data = format_fasta(fasta_data)\n",
    "        self.sequence = formatted_data[\"sequence\"]\n",
    "        self.header = formatted_data[\"header\"]\n",
    "\n",
    "    def format_sequence(self):\n",
    "        seq = ''.join(self.sequence)\n",
    "        seq = seq.replace(\"\\n\", \"\")\n",
    "        return seq\n",
    "\n",
    "\n",
    "    def __str__(self):\n",
    "        return f\"Protein {self.accession} - {self.header['description']}\"\n",
    "    \n",
    "    def getNmer(self,n):\n",
    "        nmer = []\n",
    "        seq = self.format_sequence()\n",
    "        for i in range(len(seq) - n + 1):\n",
    "            nmer.append(seq[i:i+n])\n",
    "        return nmer\n",
    "    \n",
    "    def findMotif(self):\n",
    "        seq = self.format_sequence()\n",
    "\n",
    "        motif = input(\"Enter the regex motif to search for: \")\n",
    "\n",
    "        matches = re.finditer(motif, seq) # multiple times\n",
    "        for match in matches:\n",
    "            start = match.start()\n",
    "            end = match.end()\n",
    "            print(f\"Match found at position {start} to {end}: {match.group()}\")\n",
    "\n",
    "        return \n"
   ]
  },
  {
   "cell_type": "code",
   "execution_count": 137,
   "id": "d8f31e8a",
   "metadata": {},
   "outputs": [],
   "source": [
    "protein_objects = [] # This are class objects\n",
    "for accession in protein_sequences:\n",
    "    prot = protein(accession)\n",
    "    prot.fetch_sequence()\n",
    "    protein_objects.append(prot)"
   ]
  },
  {
   "cell_type": "code",
   "execution_count": 138,
   "id": "2cc8a062",
   "metadata": {},
   "outputs": [
    {
     "name": "stdout",
     "output_type": "stream",
     "text": [
      "{'accession': 'Q15836', 'name': 'VAMP3_HUMAN', 'description': 'Vesicle-associated membrane protein 3', 'organism': 'Homo sapiens', 'ox': '9606', 'gene': 'VAMP3', 'pe': '1', 'sv': '3'}\n",
      "['MSTGPTAATGSNRRLQQTQNQVDEVVDIMRVNVDKVLERDQKLSELDDRADALQAGASQF', 'ETSAAKLKRKYWWKNCKMWAIGITVLVIFIIIIIVWVVSS']\n"
     ]
    }
   ],
   "source": [
    "\n",
    "#Example Uasage\n",
    "print(protein_objects[0].header)\n",
    "print(protein_objects[0].sequence)\n"
   ]
  },
  {
   "cell_type": "markdown",
   "id": "c4027d81",
   "metadata": {},
   "source": [
    "### Get nMer of the Sequence (Define it below)"
   ]
  },
  {
   "cell_type": "code",
   "execution_count": 139,
   "id": "5e4d8d4a",
   "metadata": {},
   "outputs": [
    {
     "name": "stdout",
     "output_type": "stream",
     "text": [
      "Protein Q15836 - Vesicle-associated membrane protein 3\n",
      "['MST', 'STG', 'TGP', 'GPT', 'PTA', 'TAA', 'AAT', 'ATG', 'TGS', 'GSN', 'SNR', 'NRR', 'RRL', 'RLQ', 'LQQ', 'QQT', 'QTQ', 'TQN', 'QNQ', 'NQV', 'QVD', 'VDE', 'DEV', 'EVV', 'VVD', 'VDI', 'DIM', 'IMR', 'MRV', 'RVN', 'VNV', 'NVD', 'VDK', 'DKV', 'KVL', 'VLE', 'LER', 'ERD', 'RDQ', 'DQK', 'QKL', 'KLS', 'LSE', 'SEL', 'ELD', 'LDD', 'DDR', 'DRA', 'RAD', 'ADA', 'DAL', 'ALQ', 'LQA', 'QAG', 'AGA', 'GAS', 'ASQ', 'SQF', 'QFE', 'FET', 'ETS', 'TSA', 'SAA', 'AAK', 'AKL', 'KLK', 'LKR', 'KRK', 'RKY', 'KYW', 'YWW', 'WWK', 'WKN', 'KNC', 'NCK', 'CKM', 'KMW', 'MWA', 'WAI', 'AIG', 'IGI', 'GIT', 'ITV', 'TVL', 'VLV', 'LVI', 'VIF', 'IFI', 'FII', 'III', 'III', 'III', 'IIV', 'IVW', 'VWV', 'WVV', 'VVS', 'VSS']\n",
      "\n",
      "\n",
      "Protein Q01524 - Defensin-6\n",
      "['MRT', 'RTL', 'TLT', 'LTI', 'TIL', 'ILT', 'LTA', 'TAV', 'AVL', 'VLL', 'LLV', 'LVA', 'VAL', 'ALQ', 'LQA', 'QAK', 'AKA', 'KAE', 'AEP', 'EPL', 'PLQ', 'LQA', 'QAE', 'AED', 'EDD', 'DDP', 'DPL', 'PLQ', 'LQA', 'QAK', 'AKA', 'KAY', 'AYE', 'YEA', 'EAD', 'ADA', 'DAQ', 'AQE', 'QEQ', 'EQR', 'QRG', 'RGA', 'GAN', 'AND', 'NDQ', 'DQD', 'QDF', 'DFA', 'FAV', 'AVS', 'VSF', 'SFA', 'FAE', 'AED', 'EDA', 'DAS', 'ASS', 'SSS', 'SSL', 'SLR', 'LRA', 'RAL', 'ALG', 'LGS', 'GST', 'STR', 'TRA', 'RAF', 'AFT', 'FTC', 'TCH', 'CHC', 'HCR', 'CRR', 'RRS', 'RSC', 'SCY', 'CYS', 'YST', 'STE', 'TEY', 'EYS', 'YSY', 'SYG', 'YGT', 'GTC', 'TCT', 'CTV', 'TVM', 'VMG', 'MGI', 'GIN', 'INH', 'NHR', 'HRF', 'RFC', 'FCC', 'CCL']\n",
      "\n",
      "\n",
      "Protein P02652 - Apolipoprotein A-II\n",
      "['MKL', 'KLL', 'LLA', 'LAA', 'AAT', 'ATV', 'TVL', 'VLL', 'LLL', 'LLT', 'LTI', 'TIC', 'ICS', 'CSL', 'SLE', 'LEG', 'EGA', 'GAL', 'ALV', 'LVR', 'VRR', 'RRQ', 'RQA', 'QAK', 'AKE', 'KEP', 'EPC', 'PCV', 'CVE', 'VES', 'ESL', 'SLV', 'LVS', 'VSQ', 'SQY', 'QYF', 'YFQ', 'FQT', 'QTV', 'TVT', 'VTD', 'TDY', 'DYG', 'YGK', 'GKD', 'KDL', 'DLM', 'LME', 'MEK', 'EKV', 'KVK', 'VKS', 'KSP', 'SPE', 'PEL', 'ELQ', 'LQA', 'QAE', 'AEA', 'EAK', 'AKS', 'KSY', 'SYF', 'YFE', 'FEK', 'EKS', 'KSK', 'SKE', 'KEQ', 'EQL', 'QLT', 'LTP', 'TPL', 'PLI', 'LIK', 'IKK', 'KKA', 'KAG', 'AGT', 'GTE', 'TEL', 'ELV', 'LVN', 'VNF', 'NFL', 'FLS', 'LSY', 'SYF', 'YFV', 'FVE', 'VEL', 'ELG', 'LGT', 'GTQ', 'TQP', 'QPA', 'PAT', 'ATQ']\n",
      "\n",
      "\n",
      "Protein P02818 - Osteocalcin\n",
      "['MRA', 'RAL', 'ALT', 'LTL', 'TLL', 'LLA', 'LAL', 'ALL', 'LLA', 'LAL', 'ALA', 'LAA', 'AAL', 'ALC', 'LCI', 'CIA', 'IAG', 'AGQ', 'GQA', 'QAG', 'AGA', 'GAK', 'AKP', 'KPS', 'PSG', 'SGA', 'GAE', 'AES', 'ESS', 'SSK', 'SKG', 'KGA', 'GAA', 'AAF', 'AFV', 'FVS', 'VSK', 'SKQ', 'KQE', 'QEG', 'EGS', 'GSE', 'SEV', 'EVV', 'VVK', 'VKR', 'KRP', 'RPR', 'PRR', 'RRY', 'RYL', 'YLY', 'LYQ', 'YQW', 'QWL', 'WLG', 'LGA', 'GAP', 'APV', 'PVP', 'VPY', 'PYP', 'YPD', 'PDP', 'DPL', 'PLE', 'LEP', 'EPR', 'PRR', 'RRE', 'REV', 'EVC', 'VCE', 'CEL', 'ELN', 'LNP', 'NPD', 'PDC', 'DCD', 'CDE', 'DEL', 'ELA', 'LAD', 'ADH', 'DHI', 'HIG', 'IGF', 'GFQ', 'FQE', 'QEA', 'EAY', 'AYR', 'YRR', 'RRF', 'RFY', 'FYG', 'YGP', 'GPV']\n",
      "\n",
      "\n",
      "Protein O60516 - Eukaryotic translation initiation factor 4E-binding protein 3\n",
      "['MST', 'STS', 'TST', 'STS', 'TSC', 'SCP', 'CPI', 'PIP', 'IPG', 'PGG', 'GGR', 'GRD', 'RDQ', 'DQL', 'QLP', 'LPD', 'PDC', 'DCY', 'CYS', 'YST', 'STT', 'TTP', 'TPG', 'PGG', 'GGT', 'GTL', 'TLY', 'LYA', 'YAT', 'ATT', 'TTP', 'TPG', 'PGG', 'GGT', 'GTR', 'TRI', 'RII', 'IIY', 'IYD', 'YDR', 'DRK', 'RKF', 'KFL', 'FLL', 'LLE', 'LEC', 'ECK', 'CKN', 'KNS', 'NSP', 'SPI', 'PIA', 'IAR', 'ART', 'RTP', 'TPP', 'PPC', 'PCC', 'CCL', 'CLP', 'LPQ', 'PQI', 'QIP', 'IPG', 'PGV', 'GVT', 'VTT', 'TTP', 'TPP', 'PPT', 'PTA', 'TAP', 'APL', 'PLS', 'LSK', 'SKL', 'KLE', 'LEE', 'EEL', 'ELK', 'LKE', 'KEQ', 'EQE', 'QET', 'ETE', 'TEE', 'EEE', 'EEI', 'EIP', 'IPD', 'PDD', 'DDA', 'DAQ', 'AQF', 'QFE', 'FEM', 'EMD', 'MDI']\n",
      "\n",
      "\n",
      "Protein P05114 - Non-histone chromosomal protein HMG-14\n",
      "['MPK', 'PKR', 'KRK', 'RKV', 'KVS', 'VSS', 'SSA', 'SAE', 'AEG', 'EGA', 'GAA', 'AAK', 'AKE', 'KEE', 'EEP', 'EPK', 'PKR', 'KRR', 'RRS', 'RSA', 'SAR', 'ARL', 'RLS', 'LSA', 'SAK', 'AKP', 'KPP', 'PPA', 'PAK', 'AKV', 'KVE', 'VEA', 'EAK', 'AKP', 'KPK', 'PKK', 'KKA', 'KAA', 'AAA', 'AAK', 'AKD', 'KDK', 'DKS', 'KSS', 'SSD', 'SDK', 'DKK', 'KKV', 'KVQ', 'VQT', 'QTK', 'TKG', 'KGK', 'GKR', 'KRG', 'RGA', 'GAK', 'AKG', 'KGK', 'GKQ', 'KQA', 'QAE', 'AEV', 'EVA', 'VAN', 'ANQ', 'NQE', 'QET', 'ETK', 'TKE', 'KED', 'EDL', 'DLP', 'LPA', 'PAE', 'AEN', 'ENG', 'NGE', 'GET', 'ETK', 'TKT', 'KTE', 'TEE', 'EES', 'ESP', 'SPA', 'PAS', 'ASD', 'SDE', 'DEA', 'EAG', 'AGE', 'GEK', 'EKE', 'KEA', 'EAK', 'AKS', 'KSD']\n",
      "\n",
      "\n",
      "Protein Q9BXV9 - EKC/KEOPS complex subunit GON7\n",
      "['MEL', 'ELL', 'LLG', 'LGE', 'GEY', 'EYV', 'YVG', 'VGQ', 'GQE', 'QEG', 'EGK', 'GKP', 'KPQ', 'PQK', 'QKL', 'KLR', 'LRV', 'RVS', 'VSC', 'SCE', 'CEA', 'EAP', 'APG', 'PGD', 'GDG', 'DGD', 'GDP', 'DPF', 'PFQ', 'FQG', 'QGL', 'GLL', 'LLS', 'LSG', 'SGV', 'GVA', 'VAQ', 'AQM', 'QMK', 'MKD', 'KDM', 'DMV', 'MVT', 'VTE', 'TEL', 'ELF', 'LFD', 'FDP', 'DPL', 'PLV', 'LVQ', 'VQG', 'QGE', 'GEV', 'EVQ', 'VQH', 'QHR', 'HRV', 'RVA', 'VAA', 'AAA', 'AAP', 'APD', 'PDE', 'DED', 'EDL', 'DLD', 'LDG', 'DGD', 'GDD', 'DDE', 'DED', 'EDD', 'DDA', 'DAE', 'AED', 'EDE', 'DEN', 'ENN', 'NNI', 'NID', 'IDN', 'DNR', 'NRT', 'RTN', 'TNF', 'NFD', 'FDG', 'DGP', 'GPS', 'PSA', 'SAK', 'AKR', 'KRP', 'RPK', 'PKT', 'KTP', 'TPS']\n",
      "\n",
      "\n",
      "Protein Q9BV40 - Vesicle-associated membrane protein 8\n",
      "['MEE', 'EEA', 'EAS', 'ASE', 'SEG', 'EGG', 'GGG', 'GGN', 'GND', 'NDR', 'DRV', 'RVR', 'VRN', 'RNL', 'NLQ', 'LQS', 'QSE', 'SEV', 'EVE', 'VEG', 'EGV', 'GVK', 'VKN', 'KNI', 'NIM', 'IMT', 'MTQ', 'TQN', 'QNV', 'NVE', 'VER', 'ERI', 'RIL', 'ILA', 'LAR', 'ARG', 'RGE', 'GEN', 'ENL', 'NLE', 'LEH', 'EHL', 'HLR', 'LRN', 'RNK', 'NKT', 'KTE', 'TED', 'EDL', 'DLE', 'LEA', 'EAT', 'ATS', 'TSE', 'SEH', 'EHF', 'HFK', 'FKT', 'KTT', 'TTS', 'TSQ', 'SQK', 'QKV', 'KVA', 'VAR', 'ARK', 'RKF', 'KFW', 'FWW', 'WWK', 'WKN', 'KNV', 'NVK', 'VKM', 'KMI', 'MIV', 'IVL', 'VLI', 'LIC', 'ICV', 'CVI', 'VIV', 'IVF', 'VFI', 'FII', 'III', 'IIL', 'ILF', 'LFI', 'FIV', 'IVL', 'VLF', 'LFA', 'FAT', 'ATG', 'TGA', 'GAF', 'AFS']\n",
      "\n",
      "\n",
      "Protein P00974 - Pancreatic trypsin inhibitor\n",
      "['MKM', 'KMS', 'MSR', 'SRL', 'RLC', 'LCL', 'CLS', 'LSV', 'SVA', 'VAL', 'ALL', 'LLV', 'LVL', 'VLL', 'LLG', 'LGT', 'GTL', 'TLA', 'LAA', 'AAS', 'AST', 'STP', 'TPG', 'PGC', 'GCD', 'CDT', 'DTS', 'TSN', 'SNQ', 'NQA', 'QAK', 'AKA', 'KAQ', 'AQR', 'QRP', 'RPD', 'PDF', 'DFC', 'FCL', 'CLE', 'LEP', 'EPP', 'PPY', 'PYT', 'YTG', 'TGP', 'GPC', 'PCK', 'CKA', 'KAR', 'ARI', 'RII', 'IIR', 'IRY', 'RYF', 'YFY', 'FYN', 'YNA', 'NAK', 'AKA', 'KAG', 'AGL', 'GLC', 'LCQ', 'CQT', 'QTF', 'TFV', 'FVY', 'VYG', 'YGG', 'GGC', 'GCR', 'CRA', 'RAK', 'AKR', 'KRN', 'RNN', 'NNF', 'NFK', 'FKS', 'KSA', 'SAE', 'AED', 'EDC', 'DCM', 'CMR', 'MRT', 'RTC', 'TCG', 'CGG', 'GGA', 'GAI', 'AIG', 'IGP', 'GPW', 'PWE', 'WEN', 'ENL']\n",
      "\n",
      "\n",
      "Protein P0AFE4 - NADH-quinone oxidoreductase subunit K\n",
      "['MIP', 'IPL', 'PLQ', 'LQH', 'QHG', 'HGL', 'GLI', 'LIL', 'ILA', 'LAA', 'AAI', 'AIL', 'ILF', 'LFV', 'FVL', 'VLG', 'LGL', 'GLT', 'LTG', 'TGL', 'GLV', 'LVI', 'VIR', 'IRR', 'RRN', 'RNL', 'NLL', 'LLF', 'LFM', 'FML', 'MLI', 'LIG', 'IGL', 'GLE', 'LEI', 'EIM', 'IMI', 'MIN', 'INA', 'NAS', 'ASA', 'SAL', 'ALA', 'LAF', 'AFV', 'FVV', 'VVA', 'VAG', 'AGS', 'GSY', 'SYW', 'YWG', 'WGQ', 'GQT', 'QTD', 'TDG', 'DGQ', 'GQV', 'QVM', 'VMY', 'MYI', 'YIL', 'ILA', 'LAI', 'AIS', 'ISL', 'SLA', 'LAA', 'AAA', 'AAE', 'AEA', 'EAS', 'ASI', 'SIG', 'IGL', 'GLA', 'LAL', 'ALL', 'LLL', 'LLQ', 'LQL', 'QLH', 'LHR', 'HRR', 'RRR', 'RRQ', 'RQN', 'QNL', 'NLN', 'LNI', 'NID', 'IDS', 'DSV', 'SVS', 'VSE', 'SEM', 'EMR', 'MRG']\n",
      "\n",
      "\n"
     ]
    }
   ],
   "source": [
    "\n",
    "nMer_length = 3\n",
    "\n",
    "for prot in protein_objects:\n",
    "    print(prot)\n",
    "    print(prot.getNmer(nMer_length))\n",
    "    print(\"\\n\")"
   ]
  },
  {
   "cell_type": "code",
   "execution_count": 140,
   "id": "b8b7b7f5",
   "metadata": {},
   "outputs": [
    {
     "name": "stdout",
     "output_type": "stream",
     "text": [
      "Match found at position 4 to 5: P\n"
     ]
    }
   ],
   "source": [
    "# Example usage of finding MOTIF:\n",
    "prot_seq = protein_objects[0]\n",
    "prot_seq.findMotif() # Input: P.{3}\n"
   ]
  },
  {
   "cell_type": "markdown",
   "id": "f4006be4",
   "metadata": {},
   "source": [
    "### Getting Shannon Entropy"
   ]
  },
  {
   "cell_type": "code",
   "execution_count": 172,
   "id": "4b48fcc4",
   "metadata": {},
   "outputs": [
    {
     "name": "stdout",
     "output_type": "stream",
     "text": [
      "[0.         2.52192809 2.64643934 1.96096405 2.84643934 2.92192809\n",
      " 2.72192809 2.72192809 2.52192809 2.64643934 2.44643934 2.44643934\n",
      " 2.52192809 2.92192809 2.32192809 2.32192809 2.72192809 2.72192809\n",
      " 2.92192809 3.32192809 2.92192809 2.92192809 2.52192809 2.64643934\n",
      " 2.84643934 3.12192809 2.64643934 2.44643934 2.92192809 2.72192809\n",
      " 2.92192809 3.12192809 3.12192809 2.64643934 2.72192809 3.12192809\n",
      " 2.92192809 3.12192809 2.64643934 3.12192809 2.72192809 2.72192809\n",
      " 3.12192809 3.12192809 3.32192809 3.12192809 2.64643934 3.12192809\n",
      " 3.12192809 3.12192809 2.92192809 2.92192809 2.72192809 2.64643934\n",
      " 2.72192809 2.92192809 2.92192809 2.92192809 2.72192809 3.12192809\n",
      " 2.72192809 2.92192809 2.44643934 2.64643934 2.72192809 2.92192809\n",
      " 2.92192809 2.92192809 3.12192809 3.32192809 3.32192809 2.84643934\n",
      " 3.12192809 2.92192809 3.12192809 3.12192809 2.64643934 3.12192809\n",
      " 2.92192809 3.12192809 2.64643934 2.64643934 2.64643934 2.92192809\n",
      " 2.72192809 3.12192809 3.12192809 3.12192809 2.92192809 2.92192809\n",
      " 2.72192809 2.72192809 2.52192809 3.12192809 2.92192809 2.92192809\n",
      " 3.12192809 2.92192809 2.92192809 2.64643934]\n",
      "[0.         1.96096405 2.32192809 2.44643934 2.44643934 2.52192809\n",
      " 2.52192809 2.64643934 2.72192809 2.72192809 2.84643934 2.84643934\n",
      " 2.92192809 2.92192809 3.12192809 3.12192809 3.32192809]\n"
     ]
    }
   ],
   "source": [
    "# REFERENCE: http://imed.med.ucm.es/Tools/svs_help.html\n",
    "\"\"\"\n",
    "= 0.0 : Fully conserved (only 1 amino acid appears)\n",
    "< 1.0 : Highly conserved position\n",
    "< 2.0 : Conserved\n",
    "> 2.0 : Variable position\n",
    "--Max : All amino acids equally likely\n",
    "\"\"\"\n",
    "\n",
    "def shannonEntropyFunction(prob):\n",
    "    val = 0\n",
    "    for p in prob:\n",
    "        if p > 0:  # avoid log(0) errors\n",
    "            val += -p*np.log2(p)\n",
    "    return val\n",
    "\n",
    "\n",
    "sequence_list = np.array([p.format_sequence().strip() for p in protein_objects])\n",
    "\n",
    "def shannonEntropy(seq_list):\n",
    "    no_of_seq = len(seq_list)\n",
    "\n",
    "    length_of_seq = len(seq_list[0])\n",
    "\n",
    "    # Check for Length\n",
    "    for i in seq_list:\n",
    "        if len(i) != length_of_seq:\n",
    "            print(length_of_seq)\n",
    "            print(len(i))\n",
    "            print(\"Sequences are of not the same length. Exiting...\")\n",
    "            return None\n",
    "        \n",
    "    Probabilities = []\n",
    "    for j in range(length_of_seq):\n",
    "        amino_acids = [seq[j] for seq in seq_list]\n",
    "        # print(amino_acids)\n",
    "\n",
    "        amino_feq =  {}\n",
    "\n",
    "        for amino in amino_acids:\n",
    "            if amino in amino_feq:\n",
    "                amino_feq[amino] += 1\n",
    "            if amino not in amino_feq:\n",
    "                amino_feq[amino] = 1\n",
    "\n",
    "        amino_dict = {aa: count / no_of_seq for aa, count in amino_feq.items()}\n",
    "        amino_feq = list(amino_dict.values())\n",
    "        # print(amino_dict)\n",
    "\n",
    "        Prob = shannonEntropyFunction(amino_feq)\n",
    "        Probabilities.append(Prob)\n",
    "    return Probabilities\n",
    "\n",
    "Probs = np.array(shannonEntropy(sequence_list))\n",
    "print(Probs)\n",
    "print(np.unique(Probs))\n"
   ]
  }
 ],
 "metadata": {
  "kernelspec": {
   "display_name": "Python 3",
   "language": "python",
   "name": "python3"
  },
  "language_info": {
   "codemirror_mode": {
    "name": "ipython",
    "version": 3
   },
   "file_extension": ".py",
   "mimetype": "text/x-python",
   "name": "python",
   "nbconvert_exporter": "python",
   "pygments_lexer": "ipython3",
   "version": "3.12.2"
  }
 },
 "nbformat": 4,
 "nbformat_minor": 5
}
